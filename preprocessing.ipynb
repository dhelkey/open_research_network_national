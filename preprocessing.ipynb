{
 "cells": [
  {
   "cell_type": "markdown",
   "metadata": {},
   "source": [
    "# Processing script\n",
    "Processing birth records, constructiung network metrics \n",
    "\n",
    "#End state today - "
   ]
  },
  {
   "cell_type": "code",
   "execution_count": null,
   "metadata": {},
   "outputs": [],
   "source": []
  },
  {
   "cell_type": "code",
   "execution_count": null,
   "metadata": {},
   "outputs": [],
   "source": [
    "\n",
    "#Imports\n",
    "#Packages\n",
    "\n",
    "#CPQ Code\n",
    "\n",
    "#Define variables\n",
    "INFANT_ID = 'baby_id'\n",
    "\n",
    "\n",
    "#Define filenames for each state (individual file, )\n",
    "state_dataframe = {'CA':('ca_individual', 'ca_long')}\n",
    "\n",
    "# Process each state individually\n",
    "for state_abv, (individual_file, long_file) in state_dataframe.items():\n",
    "    print(f\"State: {state_abv}, Individual File: {individual_file}, Long File: {long_file}\")"
   ]
  },
  {
   "cell_type": "code",
   "execution_count": 2,
   "metadata": {},
   "outputs": [
    {
     "name": "stdout",
     "output_type": "stream",
     "text": [
      "State: CA, Individual File: ca_individual, Long File: ca_long\n"
     ]
    }
   ],
   "source": [
    "\n",
    "#Process single state first (to develop)\n",
    "# then move within the loop\n",
    "\n",
    "#I have a dataframe with baby_id (.e.g multiple rows per baby.) FOr each COLUMN, I would like to identify the NUMBER of uniqie values per ifant (e.g. the largest number of infant unique values for each variable)\n",
    "    \n",
    "#Check first    \n",
    "# Group by 'baby_id' and calculate unique values for each column\n",
    "unique_counts = df.groupby(INFANT_ID).nunique()\n",
    "\n",
    "# Find the max number of unique values for each column across all babies\n",
    "max_unique_values = unique_counts.max()\n",
    "\n",
    "\n",
    "#Individual - Take the first record by baby_id\n",
    "\n",
    "#Record the state for this infant."
   ]
  },
  {
   "cell_type": "code",
   "execution_count": null,
   "metadata": {},
   "outputs": [],
   "source": [
    "#Documentation\n",
    "\n",
    "#Read in excel file\n",
    "\n",
    "#Process into keys, varaiable type dict"
   ]
  },
  {
   "cell_type": "code",
   "execution_count": null,
   "metadata": {},
   "outputs": [],
   "source": [
    "#Create table of values, missing values by state"
   ]
  },
  {
   "cell_type": "code",
   "execution_count": null,
   "metadata": {},
   "outputs": [],
   "source": [
    "#General processing - \n"
   ]
  }
 ],
 "metadata": {
  "kernelspec": {
   "display_name": "Python 3",
   "language": "python",
   "name": "python3"
  },
  "language_info": {
   "codemirror_mode": {
    "name": "ipython",
    "version": 3
   },
   "file_extension": ".py",
   "mimetype": "text/x-python",
   "name": "python",
   "nbconvert_exporter": "python",
   "pygments_lexer": "ipython3",
   "version": "3.11.5"
  }
 },
 "nbformat": 4,
 "nbformat_minor": 2
}
